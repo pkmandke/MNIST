{
 "cells": [
  {
   "cell_type": "markdown",
   "metadata": {},
   "source": [
    "# MNIST trials"
   ]
  },
  {
   "cell_type": "code",
   "execution_count": 2,
   "metadata": {},
   "outputs": [
    {
     "name": "stderr",
     "output_type": "stream",
     "text": [
      "/home/prathamesh/myvenv/tflow-cpu/lib/python3.5/site-packages/tensorflow/python/util/tf_inspect.py:75: DeprecationWarning: inspect.getargspec() is deprecated, use inspect.signature() instead\n",
      "  return _inspect.getargspec(target)\n",
      "/home/prathamesh/myvenv/tflow-cpu/lib/python3.5/site-packages/tensorflow/python/keras/backend.py:4900: ResourceWarning: unclosed file <_io.TextIOWrapper name='/home/prathamesh/.keras/keras.json' mode='r' encoding='UTF-8'>\n",
      "  _config = json.load(open(_config_path))\n"
     ]
    }
   ],
   "source": [
    "import tensorflow as tf"
   ]
  },
  {
   "cell_type": "code",
   "execution_count": 3,
   "metadata": {},
   "outputs": [],
   "source": [
    "import numpy as np"
   ]
  },
  {
   "cell_type": "code",
   "execution_count": 4,
   "metadata": {},
   "outputs": [
    {
     "name": "stderr",
     "output_type": "stream",
     "text": [
      "/home/prathamesh/myvenv/tflow-cpu/lib/python3.5/site-packages/tensorflow/python/util/tf_inspect.py:75: DeprecationWarning: inspect.getargspec() is deprecated, use inspect.signature() instead\n",
      "  return _inspect.getargspec(target)\n"
     ]
    },
    {
     "name": "stdout",
     "output_type": "stream",
     "text": [
      "WARNING:tensorflow:From <ipython-input-4-f12c4debc500>:9: read_data_sets (from tensorflow.contrib.learn.python.learn.datasets.mnist) is deprecated and will be removed in a future version.\n",
      "Instructions for updating:\n",
      "Please use alternatives such as official/mnist/dataset.py from tensorflow/models.\n",
      "WARNING:tensorflow:From /home/prathamesh/myvenv/tflow-cpu/lib/python3.5/site-packages/tensorflow/contrib/learn/python/learn/datasets/mnist.py:260: maybe_download (from tensorflow.contrib.learn.python.learn.datasets.base) is deprecated and will be removed in a future version.\n",
      "Instructions for updating:\n",
      "Please write your own downloading logic.\n",
      "WARNING:tensorflow:From /home/prathamesh/myvenv/tflow-cpu/lib/python3.5/site-packages/tensorflow/contrib/learn/python/learn/datasets/mnist.py:262: extract_images (from tensorflow.contrib.learn.python.learn.datasets.mnist) is deprecated and will be removed in a future version.\n",
      "Instructions for updating:\n",
      "Please use tf.data to implement this functionality.\n",
      "Extracting /home/prathamesh/undergrad/btech_proj/misc/mnist_data/train-images-idx3-ubyte.gz\n",
      "WARNING:tensorflow:From /home/prathamesh/myvenv/tflow-cpu/lib/python3.5/site-packages/tensorflow/contrib/learn/python/learn/datasets/mnist.py:267: extract_labels (from tensorflow.contrib.learn.python.learn.datasets.mnist) is deprecated and will be removed in a future version.\n",
      "Instructions for updating:\n",
      "Please use tf.data to implement this functionality.\n",
      "Extracting /home/prathamesh/undergrad/btech_proj/misc/mnist_data/train-labels-idx1-ubyte.gz\n",
      "WARNING:tensorflow:From /home/prathamesh/myvenv/tflow-cpu/lib/python3.5/site-packages/tensorflow/contrib/learn/python/learn/datasets/mnist.py:110: dense_to_one_hot (from tensorflow.contrib.learn.python.learn.datasets.mnist) is deprecated and will be removed in a future version.\n",
      "Instructions for updating:\n",
      "Please use tf.one_hot on tensors.\n",
      "Extracting /home/prathamesh/undergrad/btech_proj/misc/mnist_data/t10k-images-idx3-ubyte.gz\n",
      "Extracting /home/prathamesh/undergrad/btech_proj/misc/mnist_data/t10k-labels-idx1-ubyte.gz\n",
      "WARNING:tensorflow:From /home/prathamesh/myvenv/tflow-cpu/lib/python3.5/site-packages/tensorflow/contrib/learn/python/learn/datasets/mnist.py:290: DataSet.__init__ (from tensorflow.contrib.learn.python.learn.datasets.mnist) is deprecated and will be removed in a future version.\n",
      "Instructions for updating:\n",
      "Please use alternatives such as official/mnist/dataset.py from tensorflow/models.\n"
     ]
    }
   ],
   "source": [
    "import warnings\n",
    "warnings.filterwarnings('ignore')\n",
    "warnings.filterwarnings(action='once')\n",
    "\n",
    "from tensorflow.examples.tutorials.mnist import input_data\n",
    "\n",
    "DATA_PATH = '/home/prathamesh/undergrad/btech_proj/misc/mnist_data'\n",
    "\n",
    "mnist_dat = input_data.read_data_sets(DATA_PATH, one_hot=True);"
   ]
  },
  {
   "cell_type": "code",
   "execution_count": 14,
   "metadata": {},
   "outputs": [],
   "source": [
    "\n",
    "def max_pool(input_, kernel=[1,2,2,1], stride=[1,2,2,1], padd='SAME'):\n",
    "    return tf.nn.max_pool(input_, ksize=kernel, strides=stride, padding=padd)\n",
    "\n",
    "def get_weights(size):\n",
    "    return tf.Variable(tf.random_normal(shape=size, stddev=0.4))\n",
    "\n",
    "def get_bias(size):\n",
    "    return tf.Variable(tf.constant(0.1, shape=size))\n",
    "\n",
    "def full_conn(inp, size, d1):\n",
    "    W = get_weights([inp.get_shape().as_list()[1],size])\n",
    "    bias = get_bias([size]);\n",
    "    return tf.matmul(inp, W) + bias\n",
    "\n",
    "def conv_layer(input_, filtr, stride=[1,1,1,1], padd='SAME'):\n",
    "    W = get_weights(filtr);\n",
    "    bias = get_bias([filtr[3]])\n",
    "    return tf.nn.relu(tf.nn.conv2d(input_, W, strides=stride, padding=padd) + bias)\n"
   ]
  },
  {
   "cell_type": "code",
   "execution_count": 15,
   "metadata": {},
   "outputs": [
    {
     "name": "stdout",
     "output_type": "stream",
     "text": [
      "(10, 10)\n"
     ]
    }
   ],
   "source": [
    "#import helpers as h\n",
    "\n",
    "with tf.Graph().as_default():\n",
    "    \n",
    "    x = tf.placeholder(tf.float32, shape=[None,784]);\n",
    "    x_im = tf.reshape(x, [-1,28,28,1])\n",
    "    y_true = tf.placeholder(tf.float32, shape=[None,10])\n",
    "    keep_prob = tf.placeholder(tf.float32)\n",
    "    \n",
    "    conv1 = conv_layer(x_im, [5,5,1,32]);\n",
    "    conv1 = max_pool(conv1)\n",
    "    \n",
    "    conv2 = conv_layer(conv1, [5,5,32,64])\n",
    "    conv2 = max_pool(conv2)\n",
    "    \n",
    "    conv_flat = tf.reshape(conv2, [-1, 7*7*64])\n",
    "    dense1 = tf.nn.relu(full_conn(conv_flat, size=1024, d1=7*7*64))\n",
    "    d1_drop = tf.nn.dropout(dense1, keep_prob=keep_prob)\n",
    "    \n",
    "    y_pred = full_conn(d1_drop, size=10, d1=1024)\n",
    "    \n",
    "    loss = tf.reduce_mean(tf.nn.softmax_cross_entropy_with_logits(logits=y_pred, labels=y_true))\n",
    "    optimizer = tf.train.AdamOptimizer(1e-3).minimize(loss)\n",
    "    \n",
    "    corr_pred = tf.equal(tf.argmax(y_pred,1), tf.argmax(y_true,1))\n",
    "    accuracy = tf.reduce_mean(tf.cast(corr_pred, tf.float32))\n",
    "    \n",
    "    \n",
    "    with tf.Session() as sess:\n",
    "        sess.run(tf.global_variables_initializer())\n",
    "        #ss = s.run(y_pred, feed_dict={x: np.random.randn(5,784), y_true: np.random.randn(5,10), keep_prob: 0.5})\n",
    "        EPOCHS = 2\n",
    "        \n",
    "        #print(sess.run(y_pred, feed_dict={x: np.random.randn(10,784), y_true: np.random.randn(10,10), keep_prob:0.5}).shape)\n",
    "\n",
    "        for epoch in range(EPOCHS):\n",
    "            for step in range(500):\n",
    "                batch = mnist_dat.train.next_batch(100)\n",
    "                if step%100 == 0:\n",
    "                    ssd, lss = sess.run([accuracy, loss],feed_dict={x:batch[0], y_true:batch[1],keep_prob:0.5})\n",
    "                    print(\"Epoch {} Accuracy = {}% Loss {} at step {}\".format(epoch+1,ssd*100,lss,step))\n",
    "                else:\n",
    "                    sess.run(optimizer, feed_dict={x: batch[0], y_true: batch[1], keep_prob:0.5})\n",
    "                \n",
    "        X = mnist_dat.test.images.reshape(10,1000,784)\n",
    "        Y = mnist_dat.test.labels.reshape(10,1000,10)\n",
    "        acc = []\n",
    "        for i in range(10):\n",
    "            acc.append(sess.run(accuracy, feed_dict={x: X[i],y_true:Y[i], keep_prob:0.5}))\n",
    "        t_acc = np.mean(acc)\n",
    "        print(\"Test accuracy: {0}\".format(t_acc*100))"
   ]
  },
  {
   "cell_type": "code",
   "execution_count": null,
   "metadata": {},
   "outputs": [],
   "source": []
  }
 ],
 "metadata": {
  "kernelspec": {
   "display_name": "Python 3",
   "language": "python",
   "name": "python3"
  },
  "language_info": {
   "codemirror_mode": {
    "name": "ipython",
    "version": 3
   },
   "file_extension": ".py",
   "mimetype": "text/x-python",
   "name": "python",
   "nbconvert_exporter": "python",
   "pygments_lexer": "ipython3",
   "version": "3.5.2"
  }
 },
 "nbformat": 4,
 "nbformat_minor": 2
}
